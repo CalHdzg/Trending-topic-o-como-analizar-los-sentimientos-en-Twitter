{
  "nbformat": 4,
  "nbformat_minor": 0,
  "metadata": {
    "colab": {
      "provenance": [],
      "mount_file_id": "1owcB1LpkWTzJlvvgoNVheAaPJFN6b8lc",
      "authorship_tag": "ABX9TyOpKffrW2eyF5r65o8zzfTx",
      "include_colab_link": true
    },
    "kernelspec": {
      "name": "python3",
      "display_name": "Python 3"
    },
    "language_info": {
      "name": "python"
    }
  },
  "cells": [
    {
      "cell_type": "markdown",
      "metadata": {
        "id": "view-in-github",
        "colab_type": "text"
      },
      "source": [
        "<a href=\"https://colab.research.google.com/github/CalHdzg/Trending-topic-o-como-analizar-los-sentimientos-en-Twitter/blob/main/Ciclo_1.ipynb\" target=\"_parent\"><img src=\"https://colab.research.google.com/assets/colab-badge.svg\" alt=\"Open In Colab\"/></a>"
      ]
    },
    {
      "cell_type": "code",
      "execution_count": null,
      "metadata": {
        "id": "jB2a2JJQAUtX"
      },
      "outputs": [],
      "source": []
    },
    {
      "cell_type": "code",
      "source": [
        "import pandas as pd\n",
        "df = pd.read_json('/content/drive/MyDrive/Nao Digital/1 - Cómo analizar los sentimientos en Twitter/Ciclo 1/tweets_extraction.json')\n",
        "\n",
        "#Me aseguro de que reconozca a la sección \"fecha\" como tal\n",
        "df['fecha'] = pd.to_datetime(df['fecha'])"
      ],
      "metadata": {
        "id": "Dw2s-MHHAYoR"
      },
      "execution_count": 14,
      "outputs": []
    },
    {
      "cell_type": "code",
      "source": [
        "df"
      ],
      "metadata": {
        "colab": {
          "base_uri": "https://localhost:8080/",
          "height": 424
        },
        "id": "lJV4c2Z56mFd",
        "outputId": "a0fe1e4b-216a-4040-8340-13b9e29180a3"
      },
      "execution_count": 15,
      "outputs": [
        {
          "output_type": "execute_result",
          "data": {
            "text/plain": [
              "                       id                                              texto  \\\n",
              "0       12116719578733158  #BrechaAnuario2019 | Con cañón y coronel El vo...   \n",
              "1       12116547084876964  #BrechaAnuario2019 | Las PASO en Argentina \"Em...   \n",
              "2       12116529643744992  #BrechaAnuario2019 | Bolsonaro contra la selva...   \n",
              "3       12110290516301292  #BrechaAnuario2019 | Aquí, los temas que apare...   \n",
              "4       12107119614801142  #BrechaAnuario2019 | El mejor dibujante de his...   \n",
              "...                   ...                                                ...   \n",
              "290601   1080102594054406  Felicidades en este  1 dia del 2019. A todos l...   \n",
              "290602  10800857075935356  Apareció flotando en una laguna el cuerpo del ...   \n",
              "290603   1080077600553427  Recluso de Santiago Vázquez no retornó de una ...   \n",
              "290604   1079905091438682  Volcán de Indonesia que desató el tsunami perd...   \n",
              "290605  10798902581903892  La economía mundial se frenará en 2019 https:/...   \n",
              "\n",
              "                usuario                                           hashtags  \\\n",
              "0       SemanarioBrecha  [BrechaAnuario2019, RelecturasDeUnAñoPerturbador]   \n",
              "1       SemanarioBrecha                                [BrechaAnuario2019]   \n",
              "2       SemanarioBrecha                                [BrechaAnuario2019]   \n",
              "3       SemanarioBrecha  [BrechaAnuario2019, RelecturasDeUnAñoPerturbador]   \n",
              "4       SemanarioBrecha                                [BrechaAnuario2019]   \n",
              "...                 ...                                                ...   \n",
              "290601   larepublica_uy                                                 []   \n",
              "290602   larepublica_uy                                                 []   \n",
              "290603   larepublica_uy                                                 []   \n",
              "290604   larepublica_uy                                                 []   \n",
              "290605   larepublica_uy                                                 []   \n",
              "\n",
              "                           fecha  retweets  favoritos  \n",
              "0      2021-12-30 15:34:41+00:00         3          2  \n",
              "1      2021-12-30 14:26:08+00:00         2          1  \n",
              "2      2021-12-30 14:19:12+00:00         3          2  \n",
              "3      2021-12-28 21:00:00+00:00         2          5  \n",
              "4      2021-12-28 00:00:00+00:00         0          4  \n",
              "...                          ...       ...        ...  \n",
              "290601 2021-01-01 14:05:00+00:00        11         32  \n",
              "290602 2021-01-01 12:57:54+00:00         1          1  \n",
              "290603 2021-01-01 12:25:41+00:00         1          1  \n",
              "290604 2021-01-01 01:00:12+00:00         0          0  \n",
              "290605 2021-01-01 00:01:15+00:00         1          1  \n",
              "\n",
              "[290606 rows x 7 columns]"
            ],
            "text/html": [
              "\n",
              "  <div id=\"df-6b97a07a-4d3e-445a-ac2d-da6dc1b77908\" class=\"colab-df-container\">\n",
              "    <div>\n",
              "<style scoped>\n",
              "    .dataframe tbody tr th:only-of-type {\n",
              "        vertical-align: middle;\n",
              "    }\n",
              "\n",
              "    .dataframe tbody tr th {\n",
              "        vertical-align: top;\n",
              "    }\n",
              "\n",
              "    .dataframe thead th {\n",
              "        text-align: right;\n",
              "    }\n",
              "</style>\n",
              "<table border=\"1\" class=\"dataframe\">\n",
              "  <thead>\n",
              "    <tr style=\"text-align: right;\">\n",
              "      <th></th>\n",
              "      <th>id</th>\n",
              "      <th>texto</th>\n",
              "      <th>usuario</th>\n",
              "      <th>hashtags</th>\n",
              "      <th>fecha</th>\n",
              "      <th>retweets</th>\n",
              "      <th>favoritos</th>\n",
              "    </tr>\n",
              "  </thead>\n",
              "  <tbody>\n",
              "    <tr>\n",
              "      <th>0</th>\n",
              "      <td>12116719578733158</td>\n",
              "      <td>#BrechaAnuario2019 | Con cañón y coronel El vo...</td>\n",
              "      <td>SemanarioBrecha</td>\n",
              "      <td>[BrechaAnuario2019, RelecturasDeUnAñoPerturbador]</td>\n",
              "      <td>2021-12-30 15:34:41+00:00</td>\n",
              "      <td>3</td>\n",
              "      <td>2</td>\n",
              "    </tr>\n",
              "    <tr>\n",
              "      <th>1</th>\n",
              "      <td>12116547084876964</td>\n",
              "      <td>#BrechaAnuario2019 | Las PASO en Argentina \"Em...</td>\n",
              "      <td>SemanarioBrecha</td>\n",
              "      <td>[BrechaAnuario2019]</td>\n",
              "      <td>2021-12-30 14:26:08+00:00</td>\n",
              "      <td>2</td>\n",
              "      <td>1</td>\n",
              "    </tr>\n",
              "    <tr>\n",
              "      <th>2</th>\n",
              "      <td>12116529643744992</td>\n",
              "      <td>#BrechaAnuario2019 | Bolsonaro contra la selva...</td>\n",
              "      <td>SemanarioBrecha</td>\n",
              "      <td>[BrechaAnuario2019]</td>\n",
              "      <td>2021-12-30 14:19:12+00:00</td>\n",
              "      <td>3</td>\n",
              "      <td>2</td>\n",
              "    </tr>\n",
              "    <tr>\n",
              "      <th>3</th>\n",
              "      <td>12110290516301292</td>\n",
              "      <td>#BrechaAnuario2019 | Aquí, los temas que apare...</td>\n",
              "      <td>SemanarioBrecha</td>\n",
              "      <td>[BrechaAnuario2019, RelecturasDeUnAñoPerturbador]</td>\n",
              "      <td>2021-12-28 21:00:00+00:00</td>\n",
              "      <td>2</td>\n",
              "      <td>5</td>\n",
              "    </tr>\n",
              "    <tr>\n",
              "      <th>4</th>\n",
              "      <td>12107119614801142</td>\n",
              "      <td>#BrechaAnuario2019 | El mejor dibujante de his...</td>\n",
              "      <td>SemanarioBrecha</td>\n",
              "      <td>[BrechaAnuario2019]</td>\n",
              "      <td>2021-12-28 00:00:00+00:00</td>\n",
              "      <td>0</td>\n",
              "      <td>4</td>\n",
              "    </tr>\n",
              "    <tr>\n",
              "      <th>...</th>\n",
              "      <td>...</td>\n",
              "      <td>...</td>\n",
              "      <td>...</td>\n",
              "      <td>...</td>\n",
              "      <td>...</td>\n",
              "      <td>...</td>\n",
              "      <td>...</td>\n",
              "    </tr>\n",
              "    <tr>\n",
              "      <th>290601</th>\n",
              "      <td>1080102594054406</td>\n",
              "      <td>Felicidades en este  1 dia del 2019. A todos l...</td>\n",
              "      <td>larepublica_uy</td>\n",
              "      <td>[]</td>\n",
              "      <td>2021-01-01 14:05:00+00:00</td>\n",
              "      <td>11</td>\n",
              "      <td>32</td>\n",
              "    </tr>\n",
              "    <tr>\n",
              "      <th>290602</th>\n",
              "      <td>10800857075935356</td>\n",
              "      <td>Apareció flotando en una laguna el cuerpo del ...</td>\n",
              "      <td>larepublica_uy</td>\n",
              "      <td>[]</td>\n",
              "      <td>2021-01-01 12:57:54+00:00</td>\n",
              "      <td>1</td>\n",
              "      <td>1</td>\n",
              "    </tr>\n",
              "    <tr>\n",
              "      <th>290603</th>\n",
              "      <td>1080077600553427</td>\n",
              "      <td>Recluso de Santiago Vázquez no retornó de una ...</td>\n",
              "      <td>larepublica_uy</td>\n",
              "      <td>[]</td>\n",
              "      <td>2021-01-01 12:25:41+00:00</td>\n",
              "      <td>1</td>\n",
              "      <td>1</td>\n",
              "    </tr>\n",
              "    <tr>\n",
              "      <th>290604</th>\n",
              "      <td>1079905091438682</td>\n",
              "      <td>Volcán de Indonesia que desató el tsunami perd...</td>\n",
              "      <td>larepublica_uy</td>\n",
              "      <td>[]</td>\n",
              "      <td>2021-01-01 01:00:12+00:00</td>\n",
              "      <td>0</td>\n",
              "      <td>0</td>\n",
              "    </tr>\n",
              "    <tr>\n",
              "      <th>290605</th>\n",
              "      <td>10798902581903892</td>\n",
              "      <td>La economía mundial se frenará en 2019 https:/...</td>\n",
              "      <td>larepublica_uy</td>\n",
              "      <td>[]</td>\n",
              "      <td>2021-01-01 00:01:15+00:00</td>\n",
              "      <td>1</td>\n",
              "      <td>1</td>\n",
              "    </tr>\n",
              "  </tbody>\n",
              "</table>\n",
              "<p>290606 rows × 7 columns</p>\n",
              "</div>\n",
              "    <div class=\"colab-df-buttons\">\n",
              "\n",
              "  <div class=\"colab-df-container\">\n",
              "    <button class=\"colab-df-convert\" onclick=\"convertToInteractive('df-6b97a07a-4d3e-445a-ac2d-da6dc1b77908')\"\n",
              "            title=\"Convert this dataframe to an interactive table.\"\n",
              "            style=\"display:none;\">\n",
              "\n",
              "  <svg xmlns=\"http://www.w3.org/2000/svg\" height=\"24px\" viewBox=\"0 -960 960 960\">\n",
              "    <path d=\"M120-120v-720h720v720H120Zm60-500h600v-160H180v160Zm220 220h160v-160H400v160Zm0 220h160v-160H400v160ZM180-400h160v-160H180v160Zm440 0h160v-160H620v160ZM180-180h160v-160H180v160Zm440 0h160v-160H620v160Z\"/>\n",
              "  </svg>\n",
              "    </button>\n",
              "\n",
              "  <style>\n",
              "    .colab-df-container {\n",
              "      display:flex;\n",
              "      gap: 12px;\n",
              "    }\n",
              "\n",
              "    .colab-df-convert {\n",
              "      background-color: #E8F0FE;\n",
              "      border: none;\n",
              "      border-radius: 50%;\n",
              "      cursor: pointer;\n",
              "      display: none;\n",
              "      fill: #1967D2;\n",
              "      height: 32px;\n",
              "      padding: 0 0 0 0;\n",
              "      width: 32px;\n",
              "    }\n",
              "\n",
              "    .colab-df-convert:hover {\n",
              "      background-color: #E2EBFA;\n",
              "      box-shadow: 0px 1px 2px rgba(60, 64, 67, 0.3), 0px 1px 3px 1px rgba(60, 64, 67, 0.15);\n",
              "      fill: #174EA6;\n",
              "    }\n",
              "\n",
              "    .colab-df-buttons div {\n",
              "      margin-bottom: 4px;\n",
              "    }\n",
              "\n",
              "    [theme=dark] .colab-df-convert {\n",
              "      background-color: #3B4455;\n",
              "      fill: #D2E3FC;\n",
              "    }\n",
              "\n",
              "    [theme=dark] .colab-df-convert:hover {\n",
              "      background-color: #434B5C;\n",
              "      box-shadow: 0px 1px 3px 1px rgba(0, 0, 0, 0.15);\n",
              "      filter: drop-shadow(0px 1px 2px rgba(0, 0, 0, 0.3));\n",
              "      fill: #FFFFFF;\n",
              "    }\n",
              "  </style>\n",
              "\n",
              "    <script>\n",
              "      const buttonEl =\n",
              "        document.querySelector('#df-6b97a07a-4d3e-445a-ac2d-da6dc1b77908 button.colab-df-convert');\n",
              "      buttonEl.style.display =\n",
              "        google.colab.kernel.accessAllowed ? 'block' : 'none';\n",
              "\n",
              "      async function convertToInteractive(key) {\n",
              "        const element = document.querySelector('#df-6b97a07a-4d3e-445a-ac2d-da6dc1b77908');\n",
              "        const dataTable =\n",
              "          await google.colab.kernel.invokeFunction('convertToInteractive',\n",
              "                                                    [key], {});\n",
              "        if (!dataTable) return;\n",
              "\n",
              "        const docLinkHtml = 'Like what you see? Visit the ' +\n",
              "          '<a target=\"_blank\" href=https://colab.research.google.com/notebooks/data_table.ipynb>data table notebook</a>'\n",
              "          + ' to learn more about interactive tables.';\n",
              "        element.innerHTML = '';\n",
              "        dataTable['output_type'] = 'display_data';\n",
              "        await google.colab.output.renderOutput(dataTable, element);\n",
              "        const docLink = document.createElement('div');\n",
              "        docLink.innerHTML = docLinkHtml;\n",
              "        element.appendChild(docLink);\n",
              "      }\n",
              "    </script>\n",
              "  </div>\n",
              "\n",
              "\n",
              "<div id=\"df-0d1a0e02-0742-4336-a409-8291d8541a15\">\n",
              "  <button class=\"colab-df-quickchart\" onclick=\"quickchart('df-0d1a0e02-0742-4336-a409-8291d8541a15')\"\n",
              "            title=\"Suggest charts\"\n",
              "            style=\"display:none;\">\n",
              "\n",
              "<svg xmlns=\"http://www.w3.org/2000/svg\" height=\"24px\"viewBox=\"0 0 24 24\"\n",
              "     width=\"24px\">\n",
              "    <g>\n",
              "        <path d=\"M19 3H5c-1.1 0-2 .9-2 2v14c0 1.1.9 2 2 2h14c1.1 0 2-.9 2-2V5c0-1.1-.9-2-2-2zM9 17H7v-7h2v7zm4 0h-2V7h2v10zm4 0h-2v-4h2v4z\"/>\n",
              "    </g>\n",
              "</svg>\n",
              "  </button>\n",
              "\n",
              "<style>\n",
              "  .colab-df-quickchart {\n",
              "      --bg-color: #E8F0FE;\n",
              "      --fill-color: #1967D2;\n",
              "      --hover-bg-color: #E2EBFA;\n",
              "      --hover-fill-color: #174EA6;\n",
              "      --disabled-fill-color: #AAA;\n",
              "      --disabled-bg-color: #DDD;\n",
              "  }\n",
              "\n",
              "  [theme=dark] .colab-df-quickchart {\n",
              "      --bg-color: #3B4455;\n",
              "      --fill-color: #D2E3FC;\n",
              "      --hover-bg-color: #434B5C;\n",
              "      --hover-fill-color: #FFFFFF;\n",
              "      --disabled-bg-color: #3B4455;\n",
              "      --disabled-fill-color: #666;\n",
              "  }\n",
              "\n",
              "  .colab-df-quickchart {\n",
              "    background-color: var(--bg-color);\n",
              "    border: none;\n",
              "    border-radius: 50%;\n",
              "    cursor: pointer;\n",
              "    display: none;\n",
              "    fill: var(--fill-color);\n",
              "    height: 32px;\n",
              "    padding: 0;\n",
              "    width: 32px;\n",
              "  }\n",
              "\n",
              "  .colab-df-quickchart:hover {\n",
              "    background-color: var(--hover-bg-color);\n",
              "    box-shadow: 0 1px 2px rgba(60, 64, 67, 0.3), 0 1px 3px 1px rgba(60, 64, 67, 0.15);\n",
              "    fill: var(--button-hover-fill-color);\n",
              "  }\n",
              "\n",
              "  .colab-df-quickchart-complete:disabled,\n",
              "  .colab-df-quickchart-complete:disabled:hover {\n",
              "    background-color: var(--disabled-bg-color);\n",
              "    fill: var(--disabled-fill-color);\n",
              "    box-shadow: none;\n",
              "  }\n",
              "\n",
              "  .colab-df-spinner {\n",
              "    border: 2px solid var(--fill-color);\n",
              "    border-color: transparent;\n",
              "    border-bottom-color: var(--fill-color);\n",
              "    animation:\n",
              "      spin 1s steps(1) infinite;\n",
              "  }\n",
              "\n",
              "  @keyframes spin {\n",
              "    0% {\n",
              "      border-color: transparent;\n",
              "      border-bottom-color: var(--fill-color);\n",
              "      border-left-color: var(--fill-color);\n",
              "    }\n",
              "    20% {\n",
              "      border-color: transparent;\n",
              "      border-left-color: var(--fill-color);\n",
              "      border-top-color: var(--fill-color);\n",
              "    }\n",
              "    30% {\n",
              "      border-color: transparent;\n",
              "      border-left-color: var(--fill-color);\n",
              "      border-top-color: var(--fill-color);\n",
              "      border-right-color: var(--fill-color);\n",
              "    }\n",
              "    40% {\n",
              "      border-color: transparent;\n",
              "      border-right-color: var(--fill-color);\n",
              "      border-top-color: var(--fill-color);\n",
              "    }\n",
              "    60% {\n",
              "      border-color: transparent;\n",
              "      border-right-color: var(--fill-color);\n",
              "    }\n",
              "    80% {\n",
              "      border-color: transparent;\n",
              "      border-right-color: var(--fill-color);\n",
              "      border-bottom-color: var(--fill-color);\n",
              "    }\n",
              "    90% {\n",
              "      border-color: transparent;\n",
              "      border-bottom-color: var(--fill-color);\n",
              "    }\n",
              "  }\n",
              "</style>\n",
              "\n",
              "  <script>\n",
              "    async function quickchart(key) {\n",
              "      const quickchartButtonEl =\n",
              "        document.querySelector('#' + key + ' button');\n",
              "      quickchartButtonEl.disabled = true;  // To prevent multiple clicks.\n",
              "      quickchartButtonEl.classList.add('colab-df-spinner');\n",
              "      try {\n",
              "        const charts = await google.colab.kernel.invokeFunction(\n",
              "            'suggestCharts', [key], {});\n",
              "      } catch (error) {\n",
              "        console.error('Error during call to suggestCharts:', error);\n",
              "      }\n",
              "      quickchartButtonEl.classList.remove('colab-df-spinner');\n",
              "      quickchartButtonEl.classList.add('colab-df-quickchart-complete');\n",
              "    }\n",
              "    (() => {\n",
              "      let quickchartButtonEl =\n",
              "        document.querySelector('#df-0d1a0e02-0742-4336-a409-8291d8541a15 button');\n",
              "      quickchartButtonEl.style.display =\n",
              "        google.colab.kernel.accessAllowed ? 'block' : 'none';\n",
              "    })();\n",
              "  </script>\n",
              "</div>\n",
              "\n",
              "  <div id=\"id_4d93a4e3-70cf-4bf6-ae98-70bc9240f281\">\n",
              "    <style>\n",
              "      .colab-df-generate {\n",
              "        background-color: #E8F0FE;\n",
              "        border: none;\n",
              "        border-radius: 50%;\n",
              "        cursor: pointer;\n",
              "        display: none;\n",
              "        fill: #1967D2;\n",
              "        height: 32px;\n",
              "        padding: 0 0 0 0;\n",
              "        width: 32px;\n",
              "      }\n",
              "\n",
              "      .colab-df-generate:hover {\n",
              "        background-color: #E2EBFA;\n",
              "        box-shadow: 0px 1px 2px rgba(60, 64, 67, 0.3), 0px 1px 3px 1px rgba(60, 64, 67, 0.15);\n",
              "        fill: #174EA6;\n",
              "      }\n",
              "\n",
              "      [theme=dark] .colab-df-generate {\n",
              "        background-color: #3B4455;\n",
              "        fill: #D2E3FC;\n",
              "      }\n",
              "\n",
              "      [theme=dark] .colab-df-generate:hover {\n",
              "        background-color: #434B5C;\n",
              "        box-shadow: 0px 1px 3px 1px rgba(0, 0, 0, 0.15);\n",
              "        filter: drop-shadow(0px 1px 2px rgba(0, 0, 0, 0.3));\n",
              "        fill: #FFFFFF;\n",
              "      }\n",
              "    </style>\n",
              "    <button class=\"colab-df-generate\" onclick=\"generateWithVariable('df')\"\n",
              "            title=\"Generate code using this dataframe.\"\n",
              "            style=\"display:none;\">\n",
              "\n",
              "  <svg xmlns=\"http://www.w3.org/2000/svg\" height=\"24px\"viewBox=\"0 0 24 24\"\n",
              "       width=\"24px\">\n",
              "    <path d=\"M7,19H8.4L18.45,9,17,7.55,7,17.6ZM5,21V16.75L18.45,3.32a2,2,0,0,1,2.83,0l1.4,1.43a1.91,1.91,0,0,1,.58,1.4,1.91,1.91,0,0,1-.58,1.4L9.25,21ZM18.45,9,17,7.55Zm-12,3A5.31,5.31,0,0,0,4.9,8.1,5.31,5.31,0,0,0,1,6.5,5.31,5.31,0,0,0,4.9,4.9,5.31,5.31,0,0,0,6.5,1,5.31,5.31,0,0,0,8.1,4.9,5.31,5.31,0,0,0,12,6.5,5.46,5.46,0,0,0,6.5,12Z\"/>\n",
              "  </svg>\n",
              "    </button>\n",
              "    <script>\n",
              "      (() => {\n",
              "      const buttonEl =\n",
              "        document.querySelector('#id_4d93a4e3-70cf-4bf6-ae98-70bc9240f281 button.colab-df-generate');\n",
              "      buttonEl.style.display =\n",
              "        google.colab.kernel.accessAllowed ? 'block' : 'none';\n",
              "\n",
              "      buttonEl.onclick = () => {\n",
              "        google.colab.notebook.generateWithVariable('df');\n",
              "      }\n",
              "      })();\n",
              "    </script>\n",
              "  </div>\n",
              "\n",
              "    </div>\n",
              "  </div>\n"
            ]
          },
          "metadata": {},
          "execution_count": 15
        }
      ]
    },
    {
      "cell_type": "code",
      "source": [
        "df.info()"
      ],
      "metadata": {
        "id": "3fw3ThSkA47a",
        "outputId": "7d9a404f-fce7-455e-96c9-f5e0190e67a9",
        "colab": {
          "base_uri": "https://localhost:8080/"
        }
      },
      "execution_count": 16,
      "outputs": [
        {
          "output_type": "stream",
          "name": "stdout",
          "text": [
            "<class 'pandas.core.frame.DataFrame'>\n",
            "RangeIndex: 290606 entries, 0 to 290605\n",
            "Data columns (total 7 columns):\n",
            " #   Column     Non-Null Count   Dtype              \n",
            "---  ------     --------------   -----              \n",
            " 0   id         290606 non-null  int64              \n",
            " 1   texto      290606 non-null  object             \n",
            " 2   usuario    290606 non-null  object             \n",
            " 3   hashtags   290606 non-null  object             \n",
            " 4   fecha      290606 non-null  datetime64[ns, UTC]\n",
            " 5   retweets   290606 non-null  int64              \n",
            " 6   favoritos  290606 non-null  int64              \n",
            "dtypes: datetime64[ns, UTC](1), int64(3), object(3)\n",
            "memory usage: 15.5+ MB\n"
          ]
        }
      ]
    },
    {
      "cell_type": "code",
      "source": [
        "df['id'].value_counts()"
      ],
      "metadata": {
        "colab": {
          "base_uri": "https://localhost:8080/"
        },
        "id": "wgHVdk0G3MKH",
        "outputId": "a401c94d-e022-4fb1-dddc-1b686e006719"
      },
      "execution_count": 4,
      "outputs": [
        {
          "output_type": "execute_result",
          "data": {
            "text/plain": [
              "12828648966867396    2\n",
              "1281668261088645     2\n",
              "12817601159186228    2\n",
              "12817550864614688    2\n",
              "12817248852957224    2\n",
              "                    ..\n",
              "118778412099226      1\n",
              "11877631189922488    1\n",
              "11877595693736714    1\n",
              "1187757941430149     1\n",
              "10798902581903892    1\n",
              "Name: id, Length: 289329, dtype: int64"
            ]
          },
          "metadata": {},
          "execution_count": 4
        }
      ]
    },
    {
      "cell_type": "code",
      "source": [
        "df['texto'].value_counts()"
      ],
      "metadata": {
        "colab": {
          "base_uri": "https://localhost:8080/"
        },
        "id": "8sihFj9O6DCd",
        "outputId": "a8cd550c-01aa-41de-80e3-f0aea6b2724a"
      },
      "execution_count": 5,
      "outputs": [
        {
          "output_type": "execute_result",
          "data": {
            "text/plain": [
              "nan                                                                                                                                                                                                                                                                                                                                                                                             748\n",
              "Nuestra portada de hoy:                                                                                                                                                                                                                                                                                                                                                                         350\n",
              "Nuestra portada de hoy                                                                                                                                                                                                                                                                                                                                                                          238\n",
              "Los titulares del día en  @ObservadorUY                                                                                                                                                                                                                                                                                                                                                         186\n",
              "#Casalás                                                                                                                                                                                                                                                                                                                                                                                        176\n",
              "                                                                                                                                                                                                                                                                                                                                                                                               ... \n",
              "Vota  @ernesto_talvi  : \"Siempre le he dicho a los jóvenes, no es el resultado, sino haber hecho el máximo esfuerzo\"  #EleccionesUruguay Talvi: \"Siempre le he dicho a los jóvenes, no es el resultado, sino haber hecho el máximo esfuerzo\" El candidato presidencial del Partido Colorado dijo sentir \"tranquilidad\" por haber \"dejado todo en la cancha\" durante la campaña elpais.com.uy      1\n",
              "El candidato frenteamplista  @Dmartinez_uy  llegó a su lugar de votación y alguien le ofreció su lugar en la fila. El candidato aseguró que espera \"comer rico\" porque sus hijas lo esperan con una sorpresa en su casa.  https://bit.ly/2MPFEci                                                                                                                                                  1\n",
              "Alerta amarilla por tormentas fuertes y lluvias intensas en el norte del país https://elpais.com.uy/informacion/alerta-amarilla-tormentas-fuertes-lluvias-intensas-norte-pais.html?utm_medium=elpaisuytw&utm_source=Twitter#Echobox=1572185899…                                                                                                                                                   1\n",
              "#EleccionesUruguay:  mirá las mejores fotos de la jornada https://elpais.com.uy/informacion/elecciones-mejores-fotos-jornada.html?utm_medium=elpaisuytw&utm_source=Twitter#Echobox=1572185381…                                                                                                                                                                                                    1\n",
              "La economía mundial se frenará en 2019 https://republica.com.uy/la-economia-mundial-se-frenara-en-2019-id689126/…                                                                                                                                                                                                                                                                                 1\n",
              "Name: texto, Length: 241696, dtype: int64"
            ]
          },
          "metadata": {},
          "execution_count": 5
        }
      ]
    },
    {
      "cell_type": "code",
      "source": [
        "df['usuario'].value_counts()"
      ],
      "metadata": {
        "colab": {
          "base_uri": "https://localhost:8080/"
        },
        "id": "S_WiODoC6-cA",
        "outputId": "17c7af62-786c-4d45-bdfc-7c18f44d9d74"
      },
      "execution_count": 12,
      "outputs": [
        {
          "output_type": "execute_result",
          "data": {
            "text/plain": [
              "elpaisuy           109759\n",
              "ObservadorUY        78446\n",
              "larepublica_uy      46605\n",
              "ladiaria            43610\n",
              "BUSQUEDAonline       8151\n",
              "SemanarioBrecha      4035\n",
              "Name: usuario, dtype: int64"
            ]
          },
          "metadata": {},
          "execution_count": 12
        }
      ]
    },
    {
      "cell_type": "code",
      "source": [
        "df['hashtags'].value_counts()"
      ],
      "metadata": {
        "colab": {
          "base_uri": "https://localhost:8080/"
        },
        "id": "vmcP7Vwt6uFI",
        "outputId": "ac5c4360-fb16-40ba-924b-bc801ccb25f7"
      },
      "execution_count": 10,
      "outputs": [
        {
          "output_type": "execute_result",
          "data": {
            "text/plain": [
              "[]                           250935\n",
              "[LaDiariaFinDeSemana]          3929\n",
              "[postura]                      2070\n",
              "[LaDiariaTrabajo]              1709\n",
              "[LaDiariaEducación]            1630\n",
              "                              ...  \n",
              "[AxeSessions, INNContent]         1\n",
              "[GrafSpee,]                       1\n",
              "[Uruguayo2019]                    1\n",
              "[Servicios]                       1\n",
              "[MuseumSelfieDay]                 1\n",
              "Name: hashtags, Length: 3724, dtype: int64"
            ]
          },
          "metadata": {},
          "execution_count": 10
        }
      ]
    },
    {
      "cell_type": "code",
      "source": [
        "print(df['fecha'].min(),\"\\n\",df['fecha'].max(),\"\\n\")\n",
        "df['fecha'].value_counts()"
      ],
      "metadata": {
        "colab": {
          "base_uri": "https://localhost:8080/"
        },
        "id": "jc2CSvIj7Dc0",
        "outputId": "efda547d-3780-45bb-8aa5-df7bc98bcf45"
      },
      "execution_count": 25,
      "outputs": [
        {
          "output_type": "stream",
          "name": "stdout",
          "text": [
            "2021-01-01 00:00:01+00:00 \n",
            " 2023-05-24 07:55:03+00:00 \n",
            "\n"
          ]
        },
        {
          "output_type": "execute_result",
          "data": {
            "text/plain": [
              "2022-11-30 12:08:36+00:00    55\n",
              "2022-11-13 08:00:13+00:00    34\n",
              "2022-11-05 07:45:42+00:00    33\n",
              "2022-10-14 07:53:24+00:00    33\n",
              "2022-10-22 07:50:47+00:00    32\n",
              "                             ..\n",
              "2021-11-23 01:06:42+00:00     1\n",
              "2021-11-23 00:54:54+00:00     1\n",
              "2021-11-23 00:42:08+00:00     1\n",
              "2021-11-23 00:28:43+00:00     1\n",
              "2021-01-01 00:01:15+00:00     1\n",
              "Name: fecha, Length: 277762, dtype: int64"
            ]
          },
          "metadata": {},
          "execution_count": 25
        }
      ]
    },
    {
      "cell_type": "code",
      "source": [
        "df['retweets'].value_counts()"
      ],
      "metadata": {
        "colab": {
          "base_uri": "https://localhost:8080/"
        },
        "id": "QiK_Wr_K7jt_",
        "outputId": "4f85a647-a9b3-4593-ed1d-202e9be28d47"
      },
      "execution_count": 26,
      "outputs": [
        {
          "output_type": "execute_result",
          "data": {
            "text/plain": [
              "0      78418\n",
              "1      63603\n",
              "2      41761\n",
              "3      26849\n",
              "4      17649\n",
              "       ...  \n",
              "288        1\n",
              "775        1\n",
              "335        1\n",
              "465        1\n",
              "491        1\n",
              "Name: retweets, Length: 473, dtype: int64"
            ]
          },
          "metadata": {},
          "execution_count": 26
        }
      ]
    },
    {
      "cell_type": "code",
      "source": [
        "df['favoritos'].value_counts()"
      ],
      "metadata": {
        "colab": {
          "base_uri": "https://localhost:8080/"
        },
        "id": "wES6ik3U8Z5P",
        "outputId": "ff960d4c-6d95-40de-adfe-c6455a75f200"
      },
      "execution_count": 27,
      "outputs": [
        {
          "output_type": "execute_result",
          "data": {
            "text/plain": [
              "1      38353\n",
              "2      35901\n",
              "0      30623\n",
              "3      29993\n",
              "4      23998\n",
              "       ...  \n",
              "993        1\n",
              "928        1\n",
              "689        1\n",
              "454        1\n",
              "542        1\n",
              "Name: favoritos, Length: 797, dtype: int64"
            ]
          },
          "metadata": {},
          "execution_count": 27
        }
      ]
    }
  ]
}